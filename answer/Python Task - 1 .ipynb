{
 "cells": [
  {
   "cell_type": "code",
   "execution_count": 1,
   "id": "41038aee",
   "metadata": {},
   "outputs": [],
   "source": [
    "import pandas as pd"
   ]
  },
  {
   "cell_type": "code",
   "execution_count": null,
   "id": "fee60bc6",
   "metadata": {},
   "outputs": [],
   "source": [
    "dataset_path = 'dataset-1.csv'\n",
    "result_matrix = generate_car_matrix(dataset_path)"
   ]
  },
  {
   "cell_type": "code",
   "execution_count": 2,
   "id": "9bc3ebf7",
   "metadata": {},
   "outputs": [],
   "source": [
    "## Question 1: Car Matrix Generation"
   ]
  },
  {
   "cell_type": "code",
   "execution_count": null,
   "id": "62ba0e25",
   "metadata": {},
   "outputs": [],
   "source": [
    "def generate_car_matrix(dataset):\n",
    "    df = pd.read_csv(dataset)\n",
    "    car_matrix = pd.pivot_table(df, values='car', index='id_1', columns='id_2', fill_value=0)\n",
    "    for i in range(min(car_matrix.shape[0], car_matrix.shape[1])):\n",
    "        car_matrix.iloc[i, i] = 0\n",
    "    return car_matrix"
   ]
  },
  {
   "cell_type": "code",
   "execution_count": null,
   "id": "9c14e083",
   "metadata": {},
   "outputs": [],
   "source": [
    "## Question 2: Car Type Count Calculation"
   ]
  },
  {
   "cell_type": "code",
   "execution_count": null,
   "id": "5c07f61c",
   "metadata": {},
   "outputs": [],
   "source": [
    "def get_type_count(dataset):\n",
    "    df = pd.read_csv(dataset)\n",
    "    conditions = [\n",
    "        (df['car'] <= 15),\n",
    "        (df['car'] > 15) & (df['car'] <= 25),\n",
    "        (df['car'] > 25)\n",
    "    ]\n",
    "    choices = ['low', 'medium', 'high']\n",
    "    df['car_type'] = np.select(conditions, choices, default='unknown')\n",
    "    type_counts = df['car_type'].value_counts().to_dict()\n",
    "    sorted_type_counts = dict(sorted(type_counts.items()))\n",
    "    return sorted_type_counts"
   ]
  },
  {
   "cell_type": "code",
   "execution_count": 3,
   "id": "fdf990db",
   "metadata": {},
   "outputs": [],
   "source": [
    "## Question 3: Bus Count Index Retrieval"
   ]
  },
  {
   "cell_type": "code",
   "execution_count": null,
   "id": "2acd49c5",
   "metadata": {},
   "outputs": [],
   "source": [
    "def get_bus_indexes(dataset):\n",
    "    df = pd.read_csv(dataset)\n",
    "    bus_mean = df['bus'].mean()\n",
    "    bus_indexes = df[df['bus'] > 2 * bus_mean].index.tolist()\n",
    "    bus_indexes.sort()\n",
    "    return bus_indexes"
   ]
  },
  {
   "cell_type": "code",
   "execution_count": 4,
   "id": "61f4ebea",
   "metadata": {},
   "outputs": [],
   "source": [
    "## Question 4: Route Filtering"
   ]
  },
  {
   "cell_type": "code",
   "execution_count": null,
   "id": "79be8b69",
   "metadata": {},
   "outputs": [],
   "source": [
    "def filter_routes(dataset):\n",
    "    df = pd.read_csv(dataset)\n",
    "    route_avg_truck = df.groupby('route')['truck'].mean()\n",
    "    filtered_routes = route_avg_truck[route_avg_truck > 7].index.tolist()\n",
    "    filtered_routes.sort()\n",
    "    return filtered_routes"
   ]
  },
  {
   "cell_type": "code",
   "execution_count": null,
   "id": "061b7e69",
   "metadata": {},
   "outputs": [],
   "source": [
    "## Question 5: Matrix Value Modification"
   ]
  },
  {
   "cell_type": "code",
   "execution_count": null,
   "id": "9c3aa142",
   "metadata": {},
   "outputs": [],
   "source": [
    "def multiply_matrix(input_matrix):\n",
    "    modified_matrix = input_matrix.copy()\n",
    "    modified_matrix = modified_matrix.applymap(lambda x: x * 0.75 if x > 20 else x * 1.25)\n",
    "    modified_matrix = modified_matrix.round(1)\n",
    "    return modified_matrix"
   ]
  },
  {
   "cell_type": "code",
   "execution_count": null,
   "id": "afec5d80",
   "metadata": {},
   "outputs": [],
   "source": [
    "## Question 6: Time Check"
   ]
  },
  {
   "cell_type": "code",
   "execution_count": null,
   "id": "5a13d47c",
   "metadata": {},
   "outputs": [],
   "source": [
    "def time_check(df):\n",
    "    df['start_datetime'] = pd.to_datetime(df['startDay'] + ' ' + df['startTime'])\n",
    "    df['end_datetime'] = pd.to_datetime(df['endDay'] + ' ' + df['endTime'])\n",
    "    df['duration'] = (df['end_datetime'] - df['start_datetime']).dt.total_seconds()\n",
    "    incorrect_timestamps = (\n",
    "        df.groupby(['id', 'id_2'])\n",
    "        .apply(lambda group: not (\n",
    "            group['start_datetime'].min().time() == pd.Timestamp('00:00:00').time() and\n",
    "            group['end_datetime'].max().time() == pd.Timestamp('23:59:59').time() and\n",
    "            group['duration'].sum() == 24 * 60 * 60 \n",
    "        ))\n",
    "    )\n",
    "    return incorrect_timestamps"
   ]
  },
  {
   "cell_type": "code",
   "execution_count": null,
   "id": "1806a928",
   "metadata": {},
   "outputs": [],
   "source": []
  },
  {
   "cell_type": "code",
   "execution_count": null,
   "id": "9389ecfc",
   "metadata": {},
   "outputs": [],
   "source": []
  }
 ],
 "metadata": {
  "kernelspec": {
   "display_name": "Python 3 (ipykernel)",
   "language": "python",
   "name": "python3"
  },
  "language_info": {
   "codemirror_mode": {
    "name": "ipython",
    "version": 3
   },
   "file_extension": ".py",
   "mimetype": "text/x-python",
   "name": "python",
   "nbconvert_exporter": "python",
   "pygments_lexer": "ipython3",
   "version": "3.11.5"
  }
 },
 "nbformat": 4,
 "nbformat_minor": 5
}
