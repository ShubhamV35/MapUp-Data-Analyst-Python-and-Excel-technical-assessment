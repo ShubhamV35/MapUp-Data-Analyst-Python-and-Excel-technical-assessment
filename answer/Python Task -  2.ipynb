{
 "cells": [
  {
   "cell_type": "code",
   "execution_count": 1,
   "id": "723076a2",
   "metadata": {},
   "outputs": [],
   "source": [
    "import pandas as pd\n",
    "from datetime import datetime, time, timedelta"
   ]
  },
  {
   "cell_type": "code",
   "execution_count": null,
   "id": "0bd492a3",
   "metadata": {},
   "outputs": [],
   "source": [
    "## Question 1: Distance Matrix Calculation"
   ]
  },
  {
   "cell_type": "code",
   "execution_count": null,
   "id": "8033d71b",
   "metadata": {},
   "outputs": [],
   "source": [
    "def calculate_distance_matrix(dataset):\n",
    "    df = pd.read_csv(dataset)\n",
    "    distance_table = pd.pivot_table(df, values='distance', index='source', columns='destination', fill_value=0)\n",
    "    distance_matrix = distance_table + distance_table.transpose()\n",
    "    distance_matrix.values[[range(distance_matrix.shape[0])]*2] = 0\n",
    "    for i in range(distance_matrix.shape[0]):\n",
    "        for j in range(i + 1, distance_matrix.shape[1]):\n",
    "            if distance_matrix.iloc[i, j] == 0:\n",
    "                for k in range(distance_matrix.shape[0]):\n",
    "                    if k != i and k != j and distance_matrix.iloc[i, k] != 0 and distance_matrix.iloc[k, j] != 0:\n",
    "                        distance_matrix.iloc[i, j] = distance_matrix.iloc[i, k] + distance_matrix.iloc[k, j]\n",
    "                        distance_matrix.iloc[j, i] = distance_matrix.iloc[i, j]\n",
    "                        break\n",
    "    return distance_matrix"
   ]
  },
  {
   "cell_type": "code",
   "execution_count": null,
   "id": "2b3a1bd4",
   "metadata": {},
   "outputs": [],
   "source": [
    "## Question 2: Unroll Distance Matrix"
   ]
  },
  {
   "cell_type": "code",
   "execution_count": null,
   "id": "52d990cf",
   "metadata": {},
   "outputs": [],
   "source": [
    "def unroll_distance_matrix(distance_matrix):\n",
    "    columns = distance_matrix.columns\n",
    "    indices = distance_matrix.index\n",
    "    unrolled_distances = []\n",
    "    for id_start in columns:\n",
    "        for id_end in indices:\n",
    "            if id_start != id_end:\n",
    "                distance = distance_matrix.loc[id_end, id_start]\n",
    "                unrolled_distances.append([id_start, id_end, distance])\n",
    "    result_df = pd.DataFrame(unrolled_distances, columns=['id_start', 'id_end', 'distance'])\n",
    "    return result_df"
   ]
  },
  {
   "cell_type": "code",
   "execution_count": null,
   "id": "ce19b215",
   "metadata": {},
   "outputs": [],
   "source": [
    "## Question 3: Finding IDs within Percentage Threshold"
   ]
  },
  {
   "cell_type": "code",
   "execution_count": null,
   "id": "9d2e2f85",
   "metadata": {},
   "outputs": [],
   "source": [
    "def find_ids_within_ten_percentage_threshold(df, reference_id):\n",
    "    reference_df = df[df['id_start'] ==reference_id]\n",
    "    average_distance = reference_df['distance'].mean()\n",
    "    lower_bound = average_distance - 0.1 * average_distance\n",
    "    upper_bound = average_distance + 0.1 * average_distance\n",
    "    filtered_df = df[(df['id_start'] != reference_id) & (df['distance'] >= lower_bound) & (df['distance'] <= upper_bound)]\n",
    "    result_list = sorted(filtered_df['id_start'].unique())\n",
    "    return result_list"
   ]
  },
  {
   "cell_type": "code",
   "execution_count": null,
   "id": "f864cf21",
   "metadata": {},
   "outputs": [],
   "source": [
    "## Question 4: Calculate Toll Rate"
   ]
  },
  {
   "cell_type": "code",
   "execution_count": null,
   "id": "0119778e",
   "metadata": {},
   "outputs": [],
   "source": [
    "def calculate_toll_rate(df):\n",
    "    df['moto'] = df['distance'] * 0.8\n",
    "    df['car'] = df['distance'] * 1.2\n",
    "    df['rv'] = df['distance'] * 1.5\n",
    "    df['bus'] = df['distance'] * 2.2\n",
    "    df['truck'] = df['distance'] * 3.6\n",
    "    return df"
   ]
  },
  {
   "cell_type": "code",
   "execution_count": null,
   "id": "08e27ee9",
   "metadata": {},
   "outputs": [],
   "source": [
    "## Question 5: Calculate Time-Based Toll Rates"
   ]
  },
  {
   "cell_type": "code",
   "execution_count": null,
   "id": "2b79c5d9",
   "metadata": {},
   "outputs": [],
   "source": [
    "def calculate_time_based_toll_rates(df):\n",
    "    df['start_datetime'] = pd.to_datetime(df['startDay'] + ' ' + df['startTime'])\n",
    "    df['end_datetime'] = pd.to_datetime(df['endDay'] + ' ' + df['endTime'])\n",
    "    df['start_day'] = df['start_datetime'].dt.day_name()\n",
    "    df['end_day'] = df['end_datetime'].dt.day_name()\n",
    "    df['start_time'] = df['start_datetime'].dt.time\n",
    "    df['end_time'] = df['end_datetime'].dt.time\n",
    "    weekday_ranges = [\n",
    "        (time(0, 0, 0), time(10, 0, 0)),\n",
    "        (time(10, 0, 0), time(18, 0, 0)),\n",
    "        (time(18, 0, 0), time(23, 59, 59))\n",
    "    ]\n",
    "    for start, end in weekday_ranges:\n",
    "        mask = (df['start_datetime'].dt.time >= start) & (df['start_datetime'].dt.time < end)\n",
    "        df.loc[mask, ['moto', 'car', 'rv', 'bus', 'truck']] *= 0.8 if start == time(0, 0, 0) else 1.2\n",
    "    weekend_mask = (df['start_datetime'].dt.weekday >= 5)\n",
    "    df.loc[weekend_mask, ['moto', 'car', 'rv', 'bus', 'truck']] *= 0.7\n",
    "    df = df.drop(columns=['start_datetime', 'end_datetime'])\n",
    "    return df"
   ]
  },
  {
   "cell_type": "code",
   "execution_count": null,
   "id": "1d19cb02",
   "metadata": {},
   "outputs": [],
   "source": []
  },
  {
   "cell_type": "code",
   "execution_count": null,
   "id": "f7c5a401",
   "metadata": {},
   "outputs": [],
   "source": []
  }
 ],
 "metadata": {
  "kernelspec": {
   "display_name": "Python 3 (ipykernel)",
   "language": "python",
   "name": "python3"
  },
  "language_info": {
   "codemirror_mode": {
    "name": "ipython",
    "version": 3
   },
   "file_extension": ".py",
   "mimetype": "text/x-python",
   "name": "python",
   "nbconvert_exporter": "python",
   "pygments_lexer": "ipython3",
   "version": "3.11.5"
  }
 },
 "nbformat": 4,
 "nbformat_minor": 5
}
